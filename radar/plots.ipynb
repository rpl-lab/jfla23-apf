{
 "cells": [
  {
   "cell_type": "markdown",
   "id": "641be25a",
   "metadata": {},
   "source": [
    "# Plot theta estimations for the radar example\n",
    "\n",
    "First generate the data with:\n",
    "- `make exec_apf` to generate `radar_apf.log`\n",
    "- `make exec_pf` to generate `radar_pf.log`\n",
    "\n",
    "By default, the executable dumps 1000 samples for parameter `theta` every 10 steps for 50 steps.\n",
    "You can adjust the number of steps with the `STEPS` variable of the Makefile.\n",
    "\n",
    "The code is in `radar_apf.zls` (APF version) and `radar_pf.zls` (PF version).\n",
    "\n",
    "### Boiler plate functions to import and load data"
   ]
  },
  {
   "cell_type": "code",
   "execution_count": null,
   "id": "9adc783d-0468-4642-87bd-de2c64665ebf",
   "metadata": {},
   "outputs": [],
   "source": [
    "import numpy as np\n",
    "import matplotlib.pyplot as plt\n",
    "\n",
    "import matplotlib\n",
    "matplotlib.rcParams['pdf.fonttype'] = 42\n",
    "matplotlib.rcParams['ps.fonttype'] = 42\n",
    "\n",
    "from scipy.stats import gaussian_kde"
   ]
  },
  {
   "cell_type": "code",
   "execution_count": null,
   "id": "1dca726c-15ed-4926-a85b-05995c47f844",
   "metadata": {},
   "outputs": [],
   "source": [
    "def load_data(file):\n",
    "    with open(file, 'r') as file:\n",
    "        raw = '[' + file.read().replace('\\n', ',') + ']'\n",
    "        return eval(raw)"
   ]
  },
  {
   "cell_type": "code",
   "execution_count": null,
   "id": "9fd18c1a-8ce6-4b22-8fe0-ccf132f9c921",
   "metadata": {},
   "outputs": [],
   "source": [
    "def heat(s, theta):\n",
    "    x = np.array([x for x, _ in s])\n",
    "    y = np.array([y for _, y in s])\n",
    "    try:\n",
    "        xy = np.vstack([x,y])\n",
    "        z = gaussian_kde(xy)(xy)\n",
    "        idx = z.argsort()\n",
    "        x, y, z = x[idx], y[idx], z[idx]\n",
    "        plt.scatter(x, y, c=z, cmap='Wistia') \n",
    "    except np.linalg.LinAlgError:\n",
    "        z = [1.0]*len(x)\n",
    "        plt.scatter(x, y, c='red')\n",
    "    plt.scatter([theta[0]],[theta[1]], c='green', marker=\"x\", s=100)"
   ]
  },
  {
   "cell_type": "code",
   "execution_count": null,
   "id": "0f72843c",
   "metadata": {},
   "outputs": [],
   "source": [
    "data_apf = load_data('radar_apf.log')\n",
    "data_pf = load_data('radar_pf.log')\n",
    "theta = [0.12, 0.25] # True value for theta "
   ]
  },
  {
   "cell_type": "markdown",
   "id": "ab291b9e-388c-4d80-bd2c-e7285dc7c2b3",
   "metadata": {},
   "source": [
    "### Plot APF results \n",
    "\n",
    "We use APF with moment matching and the following configuration:\n",
    "- Filtering: 500 particles \n",
    "- Moment Matching: 200 particles\n",
    "- Generate 200 output samples "
   ]
  },
  {
   "cell_type": "code",
   "execution_count": null,
   "id": "09d6ec23-648f-47e6-98f1-ee01965e8d6b",
   "metadata": {},
   "outputs": [],
   "source": [
    "# at t=0\n",
    "heat(data_apf[0], theta)"
   ]
  },
  {
   "cell_type": "code",
   "execution_count": null,
   "id": "5ab7edf6-380e-4149-9636-89b6fa62981e",
   "metadata": {},
   "outputs": [],
   "source": [
    "# at t = 30\n",
    "heat(data_apf[3], theta) # at t=10"
   ]
  },
  {
   "cell_type": "code",
   "execution_count": null,
   "id": "f470b407-862a-4d82-87fd-476ba88c12ff",
   "metadata": {},
   "outputs": [],
   "source": [
    "# at t=50\n",
    "\n",
    "heat(data_apf[5], theta) # at t = 50"
   ]
  },
  {
   "cell_type": "markdown",
   "id": "c0b254fa-5dca-491c-baae-30e48501555f",
   "metadata": {},
   "source": [
    "### Plot Particle Filter results\n",
    "\n",
    "We use 100_000 particles to match the 500 * 200 particles of APF."
   ]
  },
  {
   "cell_type": "code",
   "execution_count": null,
   "id": "2bbfa280-3a87-4181-a954-f5bb5dc8b37c",
   "metadata": {},
   "outputs": [],
   "source": [
    "# at t=0\n",
    "heat(data_pf[0], theta)"
   ]
  },
  {
   "cell_type": "code",
   "execution_count": null,
   "id": "96f5e35c-f151-4d1a-81e5-79708ad9ea47",
   "metadata": {},
   "outputs": [],
   "source": [
    "# at t = 30\n",
    "heat(data_pf[3], theta) "
   ]
  },
  {
   "cell_type": "code",
   "execution_count": null,
   "id": "1e62b43f-d948-4ac0-8da1-8363463af523",
   "metadata": {},
   "outputs": [],
   "source": [
    "# at t=50\n",
    "heat(data_pf[5], theta)"
   ]
  }
 ],
 "metadata": {
  "kernelspec": {
   "display_name": "Python 3.9.6 64-bit ('shims')",
   "language": "python",
   "name": "python3"
  },
  "language_info": {
   "codemirror_mode": {
    "name": "ipython",
    "version": 3
   },
   "file_extension": ".py",
   "mimetype": "text/x-python",
   "name": "python",
   "nbconvert_exporter": "python",
   "pygments_lexer": "ipython3",
   "version": "3.9.6"
  },
  "vscode": {
   "interpreter": {
    "hash": "a6d4fa88195df4ba064d298f24e063009233aa3011e2299d4eee753ecb28bca5"
   }
  }
 },
 "nbformat": 4,
 "nbformat_minor": 5
}
